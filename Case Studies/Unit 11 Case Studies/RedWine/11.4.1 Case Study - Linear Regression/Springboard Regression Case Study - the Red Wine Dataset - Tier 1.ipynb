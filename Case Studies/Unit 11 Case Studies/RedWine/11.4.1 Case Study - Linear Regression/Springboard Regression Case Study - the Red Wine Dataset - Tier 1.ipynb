{
 "cells": [
  {
   "cell_type": "markdown",
   "metadata": {},
   "source": [
    "# Springboard Regression Case Study - The Red Wine Dataset - Tier 1"
   ]
  },
  {
   "cell_type": "markdown",
   "metadata": {},
   "source": [
    "Welcome to the regression case study! Please note: this is ***Tier 1*** of the case study.\n",
    "\n",
    "This case study was designed for you to **use Python to apply the knowledge you've acquired in reading *The Art of Statistics* (hereinafter *AoS*) by Professor Spiegelhalter**. Specifically, the case study will get you doing regression analysis; a method discussed in Chapter 5 on p.121. It might be useful to have the book open at that page when doing the case study to remind you of what it is we're up to (but bear in mind that other statistical concepts, such as training and testing, will be applied, so you might have to glance at other chapters too).  \n",
    "\n",
    "The aim is to ***use exploratory data analysis (EDA) and regression to predict alcohol levels in wine with a model that's as accurate as possible***. \n",
    "\n",
    "We'll try a *univariate* analysis (one involving a single explanatory variable) as well as a *multivariate* one (involving multiple explanatory variables), and we'll iterate together towards a decent model by the end of the notebook. The main thing is for you to see how regression analysis looks in Python and jupyter, and to get some practice implementing this analysis.\n",
    "\n",
    "Throughout this case study, **questions** will be asked in the markdown cells. Try to **answer these yourself in a simple text file** when they come up. Most of the time, the answers will become clear as you progress through the notebook. Some of the answers may require a little research with Google and other basic resources available to every data scientist. \n",
    "\n",
    "For this notebook, we're going to use the red wine dataset, wineQualityReds.csv. Make sure it's downloaded and sitting in your working directory. This is a very common dataset for practicing regression analysis and is actually freely available on Kaggle, [here](https://www.kaggle.com/piyushgoyal443/red-wine-dataset).\n",
    "\n",
    "You're pretty familiar with the data science pipeline at this point. This project will have the following structure: \n",
    "**1. Sourcing and loading** \n",
    "- Import relevant libraries\n",
    "- Load the data \n",
    "- Exploring the data\n",
    "- Choosing a dependent variable\n",
    " \n",
    "**2. Cleaning, transforming, and visualizing**\n",
    "- Visualizing correlations\n",
    "  \n",
    "  \n",
    "**3. Modeling** \n",
    "- Train/Test split\n",
    "- Making a Linear regression model: your first model\n",
    "- Making a Linear regression model: your second model: Ordinary Least Squares (OLS) \n",
    "- Making a Linear regression model: your third model: multiple linear regression\n",
    "- Making a Linear regression model: your fourth model: avoiding redundancy\n",
    "\n",
    "**4. Evaluating and concluding** \n",
    "- Reflection \n",
    "- Which model was best?\n",
    "- Other regression algorithms"
   ]
  },
  {
   "cell_type": "markdown",
   "metadata": {},
   "source": [
    "### 1. Sourcing and loading"
   ]
  },
  {
   "cell_type": "markdown",
   "metadata": {},
   "source": [
    "#### 1a. Import relevant libraries "
   ]
  },
  {
   "cell_type": "code",
   "execution_count": 1,
   "metadata": {},
   "outputs": [],
   "source": [
    "# Import relevant libraries and packages.\n",
    "import numpy as np \n",
    "import pandas as pd \n",
    "import matplotlib.pyplot as plt \n",
    "import seaborn as sns # For all our visualization needs.\n",
    "import statsmodels.api as sm # What does this do? Find out and type here.\n",
    "from statsmodels.graphics.api import abline_plot # For visualling evaluating predictions.\n",
    "from sklearn.metrics import mean_squared_error, r2_score # What does this do? Find out and type here.\n",
    "from sklearn.model_selection import train_test_split # For splitting the data.\n",
    "from sklearn import linear_model, preprocessing # What does this do? Find out and type here.\n",
    "import warnings # For handling error messages.\n",
    "# Don't worry about the following two instructions: they just suppress warnings that could occur later. \n",
    "warnings.simplefilter(action=\"ignore\", category=FutureWarning)\n",
    "warnings.filterwarnings(action=\"ignore\", module=\"scipy\", message=\"^internal gelsd\")"
   ]
  },
  {
   "cell_type": "markdown",
   "metadata": {},
   "source": [
    "#### 1b. Load the data"
   ]
  },
  {
   "cell_type": "code",
   "execution_count": 2,
   "metadata": {},
   "outputs": [],
   "source": [
    "# Load the data. We'll set the parameter index_col to 0, because the first column contains no useful data. \n",
    "wine = pd.read_csv(\"wineQualityReds.csv\", index_col=0)"
   ]
  },
  {
   "cell_type": "markdown",
   "metadata": {},
   "source": [
    "#### 1c. Exploring the data"
   ]
  },
  {
   "cell_type": "code",
   "execution_count": 3,
   "metadata": {
    "scrolled": true
   },
   "outputs": [
    {
     "data": {
      "text/html": [
       "<div>\n",
       "<style scoped>\n",
       "    .dataframe tbody tr th:only-of-type {\n",
       "        vertical-align: middle;\n",
       "    }\n",
       "\n",
       "    .dataframe tbody tr th {\n",
       "        vertical-align: top;\n",
       "    }\n",
       "\n",
       "    .dataframe thead th {\n",
       "        text-align: right;\n",
       "    }\n",
       "</style>\n",
       "<table border=\"1\" class=\"dataframe\">\n",
       "  <thead>\n",
       "    <tr style=\"text-align: right;\">\n",
       "      <th></th>\n",
       "      <th>fixed.acidity</th>\n",
       "      <th>volatile.acidity</th>\n",
       "      <th>citric.acid</th>\n",
       "      <th>residual.sugar</th>\n",
       "      <th>chlorides</th>\n",
       "      <th>free.sulfur.dioxide</th>\n",
       "      <th>total.sulfur.dioxide</th>\n",
       "      <th>density</th>\n",
       "      <th>pH</th>\n",
       "      <th>sulphates</th>\n",
       "      <th>alcohol</th>\n",
       "      <th>quality</th>\n",
       "    </tr>\n",
       "  </thead>\n",
       "  <tbody>\n",
       "    <tr>\n",
       "      <th>1</th>\n",
       "      <td>7.4</td>\n",
       "      <td>0.70</td>\n",
       "      <td>0.00</td>\n",
       "      <td>1.9</td>\n",
       "      <td>0.076</td>\n",
       "      <td>11.0</td>\n",
       "      <td>34.0</td>\n",
       "      <td>0.9978</td>\n",
       "      <td>3.51</td>\n",
       "      <td>0.56</td>\n",
       "      <td>9.4</td>\n",
       "      <td>5</td>\n",
       "    </tr>\n",
       "    <tr>\n",
       "      <th>2</th>\n",
       "      <td>7.8</td>\n",
       "      <td>0.88</td>\n",
       "      <td>0.00</td>\n",
       "      <td>2.6</td>\n",
       "      <td>0.098</td>\n",
       "      <td>25.0</td>\n",
       "      <td>67.0</td>\n",
       "      <td>0.9968</td>\n",
       "      <td>3.20</td>\n",
       "      <td>0.68</td>\n",
       "      <td>9.8</td>\n",
       "      <td>5</td>\n",
       "    </tr>\n",
       "    <tr>\n",
       "      <th>3</th>\n",
       "      <td>7.8</td>\n",
       "      <td>0.76</td>\n",
       "      <td>0.04</td>\n",
       "      <td>2.3</td>\n",
       "      <td>0.092</td>\n",
       "      <td>15.0</td>\n",
       "      <td>54.0</td>\n",
       "      <td>0.9970</td>\n",
       "      <td>3.26</td>\n",
       "      <td>0.65</td>\n",
       "      <td>9.8</td>\n",
       "      <td>5</td>\n",
       "    </tr>\n",
       "    <tr>\n",
       "      <th>4</th>\n",
       "      <td>11.2</td>\n",
       "      <td>0.28</td>\n",
       "      <td>0.56</td>\n",
       "      <td>1.9</td>\n",
       "      <td>0.075</td>\n",
       "      <td>17.0</td>\n",
       "      <td>60.0</td>\n",
       "      <td>0.9980</td>\n",
       "      <td>3.16</td>\n",
       "      <td>0.58</td>\n",
       "      <td>9.8</td>\n",
       "      <td>6</td>\n",
       "    </tr>\n",
       "    <tr>\n",
       "      <th>5</th>\n",
       "      <td>7.4</td>\n",
       "      <td>0.70</td>\n",
       "      <td>0.00</td>\n",
       "      <td>1.9</td>\n",
       "      <td>0.076</td>\n",
       "      <td>11.0</td>\n",
       "      <td>34.0</td>\n",
       "      <td>0.9978</td>\n",
       "      <td>3.51</td>\n",
       "      <td>0.56</td>\n",
       "      <td>9.4</td>\n",
       "      <td>5</td>\n",
       "    </tr>\n",
       "  </tbody>\n",
       "</table>\n",
       "</div>"
      ],
      "text/plain": [
       "   fixed.acidity  volatile.acidity  citric.acid  residual.sugar  chlorides  \\\n",
       "1            7.4              0.70         0.00             1.9      0.076   \n",
       "2            7.8              0.88         0.00             2.6      0.098   \n",
       "3            7.8              0.76         0.04             2.3      0.092   \n",
       "4           11.2              0.28         0.56             1.9      0.075   \n",
       "5            7.4              0.70         0.00             1.9      0.076   \n",
       "\n",
       "   free.sulfur.dioxide  total.sulfur.dioxide  density    pH  sulphates  \\\n",
       "1                 11.0                  34.0   0.9978  3.51       0.56   \n",
       "2                 25.0                  67.0   0.9968  3.20       0.68   \n",
       "3                 15.0                  54.0   0.9970  3.26       0.65   \n",
       "4                 17.0                  60.0   0.9980  3.16       0.58   \n",
       "5                 11.0                  34.0   0.9978  3.51       0.56   \n",
       "\n",
       "   alcohol  quality  \n",
       "1      9.4        5  \n",
       "2      9.8        5  \n",
       "3      9.8        5  \n",
       "4      9.8        6  \n",
       "5      9.4        5  "
      ]
     },
     "execution_count": 3,
     "metadata": {},
     "output_type": "execute_result"
    }
   ],
   "source": [
    "# The first thing we do after importing data - call a .head() on it to check out its appearance. \n",
    "wine.head()"
   ]
  },
  {
   "cell_type": "code",
   "execution_count": 4,
   "metadata": {},
   "outputs": [
    {
     "data": {
      "text/plain": [
       "<bound method DataFrame.info of       fixed.acidity  volatile.acidity  citric.acid  residual.sugar  chlorides  \\\n",
       "1               7.4             0.700         0.00             1.9      0.076   \n",
       "2               7.8             0.880         0.00             2.6      0.098   \n",
       "3               7.8             0.760         0.04             2.3      0.092   \n",
       "4              11.2             0.280         0.56             1.9      0.075   \n",
       "5               7.4             0.700         0.00             1.9      0.076   \n",
       "...             ...               ...          ...             ...        ...   \n",
       "1595            6.2             0.600         0.08             2.0      0.090   \n",
       "1596            5.9             0.550         0.10             2.2      0.062   \n",
       "1597            6.3             0.510         0.13             2.3      0.076   \n",
       "1598            5.9             0.645         0.12             2.0      0.075   \n",
       "1599            6.0             0.310         0.47             3.6      0.067   \n",
       "\n",
       "      free.sulfur.dioxide  total.sulfur.dioxide  density    pH  sulphates  \\\n",
       "1                    11.0                  34.0  0.99780  3.51       0.56   \n",
       "2                    25.0                  67.0  0.99680  3.20       0.68   \n",
       "3                    15.0                  54.0  0.99700  3.26       0.65   \n",
       "4                    17.0                  60.0  0.99800  3.16       0.58   \n",
       "5                    11.0                  34.0  0.99780  3.51       0.56   \n",
       "...                   ...                   ...      ...   ...        ...   \n",
       "1595                 32.0                  44.0  0.99490  3.45       0.58   \n",
       "1596                 39.0                  51.0  0.99512  3.52       0.76   \n",
       "1597                 29.0                  40.0  0.99574  3.42       0.75   \n",
       "1598                 32.0                  44.0  0.99547  3.57       0.71   \n",
       "1599                 18.0                  42.0  0.99549  3.39       0.66   \n",
       "\n",
       "      alcohol  quality  \n",
       "1         9.4        5  \n",
       "2         9.8        5  \n",
       "3         9.8        5  \n",
       "4         9.8        6  \n",
       "5         9.4        5  \n",
       "...       ...      ...  \n",
       "1595     10.5        5  \n",
       "1596     11.2        6  \n",
       "1597     11.0        6  \n",
       "1598     10.2        5  \n",
       "1599     11.0        6  \n",
       "\n",
       "[1599 rows x 12 columns]>"
      ]
     },
     "execution_count": 4,
     "metadata": {},
     "output_type": "execute_result"
    }
   ],
   "source": [
    "# Another very useful method to call on a recently imported dataset is .info(). Call it here to get a good\n",
    "# overview of the data:\n",
    "# Examine the data types of our dataset\n",
    "wine.info"
   ]
  },
  {
   "cell_type": "markdown",
   "metadata": {},
   "source": [
    "What can you infer about the nature of these variables, as output by the info() method?\n",
    "\n",
    "Which variables might be suitable for regression analysis, and why? For those variables that aren't suitable for regression analysis, is there another type of statistical modeling for which they are suitable?"
   ]
  },
  {
   "cell_type": "code",
   "execution_count": 5,
   "metadata": {},
   "outputs": [
    {
     "name": "stdout",
     "output_type": "stream",
     "text": [
      "There are: 1599 rows.\n",
      "There are: 12 columns.\n"
     ]
    }
   ],
   "source": [
    "# We should also look more closely at the dimensions of the dataset with .shape().\n",
    "# Remember: parameters to print() are separated by commas. \n",
    "print(\"There are:\", wine.shape[0], 'rows.')\n",
    "print(\"There are:\", wine.shape[1], 'columns.')"
   ]
  },
  {
   "cell_type": "markdown",
   "metadata": {},
   "source": [
    "#### 1d. Choosing a dependent variable"
   ]
  },
  {
   "cell_type": "markdown",
   "metadata": {},
   "source": [
    "We now need to pick a dependent variable for our regression analysis: a variable whose values we will predict. \n",
    "\n",
    "'Quality' seems to be as good a candidate as any. Let's check it out. One of the quickest and most informative ways to understand a variable is to make a histogram of it. This gives us an idea of both the center and spread of its values. "
   ]
  },
  {
   "cell_type": "code",
   "execution_count": 7,
   "metadata": {},
   "outputs": [
    {
     "data": {
      "text/plain": [
       "array([[<AxesSubplot:title={'center':'3'}>,\n",
       "        <AxesSubplot:title={'center':'4'}>],\n",
       "       [<AxesSubplot:title={'center':'5'}>,\n",
       "        <AxesSubplot:title={'center':'6'}>],\n",
       "       [<AxesSubplot:title={'center':'7'}>,\n",
       "        <AxesSubplot:title={'center':'8'}>]], dtype=object)"
      ]
     },
     "execution_count": 7,
     "metadata": {},
     "output_type": "execute_result"
    },
    {
     "data": {
      "image/png": "[encoded data removed]",
      "text/plain": [
       "<Figure size 432x288 with 6 Axes>"
      ]
     },
     "metadata": {
      "needs_background": "light"
     },
     "output_type": "display_data"
    }
   ],
   "source": [
    "# Making a histogram of the quality variable.\n",
    "wine.hist(by=\"quality\")"
   ]
  },
  {
   "cell_type": "markdown",
   "metadata": {},
   "source": [
    "We can see so much about the quality variable just from this simple visualization. Answer yourself: what value do most wines have for quality? What is the minimum quality value below, and the maximum quality value? What is the range? Remind yourself of these summary statistical concepts by looking at p.49 of the *AoS*.\n",
    "\n",
    "But can you think of a problem with making this variable the dependent variable of regression analysis? Remember the example in *AoS* on p.122 of predicting the heights of children from the heights of parents? Take a moment here to think about potential problems before reading on. \n",
    "\n",
    "The issue is this: quality is a *discrete* variable, in that its values are integers (whole numbers) rather than floating point numbers. Thus, quality is not a *continuous* variable. But this means that it's actually not the best target for regression analysis. \n",
    "\n",
    "Before we dismiss the quality variable, however, let's verify that it is indeed a discrete variable with some further exploration. "
   ]
  },
  {
   "cell_type": "code",
   "execution_count": null,
   "metadata": {},
   "outputs": [],
   "source": [
    "# A great way to get a basic statistical summary of a variable is to call the describe() method on the relevant field. \n",
    "wine[\"quality\"]._ _ _\n",
    "\n",
    "# What do you notice from this summary? "
   ]
  },
  {
   "cell_type": "code",
   "execution_count": null,
   "metadata": {},
   "outputs": [],
   "source": [
    "# Calling .value_counts() on the quality field with the parameter dropna=False, \n",
    "# get a list of the values of the quality variable, and the number of occurrences of each. \n",
    "# Do you know why we're calling value_counts() with the parameter dropna=False? Take a moment to research the\n",
    "# answer if you're not sure. \n",
    "wine[\"_ _ _\"]._ _ _(dropna=False)"
   ]
  },
  {
   "cell_type": "markdown",
   "metadata": {},
   "source": [
    "The outputs of the describe() and value_counts() methods are consistent with our histogram, and since there are just as many values as there are rows in the dataset, we can infer that there are no NAs for the quality variable. \n",
    "\n",
    "But scroll up again to when we called info() on our wine dataset. We could have seen there, already, that the quality variable had int64 as its type. As a result, we had sufficient information, already, to know that the quality variable was not appropriate for regression analysis. Did you figure this out yourself? If so, kudos to you!\n",
    "\n",
    "The quality variable would, however, conduce to proper classification analysis. This is because, while the values for the quality variable are numeric, those numeric discrete values represent *categories*; and the prediction of category-placement is most often best done by classification algorithms. You saw the decision tree output by running a classification algorithm on the Titanic dataset on p.168 of Chapter 6 of *AoS*. For now, we'll continue with our regression analysis, and continue our search for a suitable dependent variable. \n",
    "\n",
    "Now, since the rest of the variables of our wine dataset are continuous, we could — in theory — pick any of them. But that does not mean that they are all equally sutiable choices. What counts as a suitable dependent variable for regression analysis is determined not just by *intrinsic* features of the dataset (such as data types, number of NAs etc) but by *extrinsic* features, such as, simply, which variables are the most interesting or useful to predict, given our aims and values in the context we're in. Almost always, we can only determine which variables are sensible choices for dependent variables with some **domain knowledge**. \n",
    "\n",
    "Not all of you might be wine buffs, but one very important and interesting quality in wine is [acidity](https://waterhouse.ucdavis.edu/whats-in-wine/fixed-acidity). As the Waterhouse Lab at the University of California explains, 'acids impart the sourness or tartness that is a fundamental feature in wine taste.  Wines lacking in acid are \"flat.\" Chemically the acids influence titrable acidity which affects taste and pH which affects  color, stability to oxidation, and consequantly the overall lifespan of a wine.'\n",
    "\n",
    "If we cannot predict quality, then it seems like **fixed acidity** might be a great option for a dependent variable. Let's go for that."
   ]
  },
  {
   "cell_type": "markdown",
   "metadata": {},
   "source": [
    "So if we're going for fixed acidity as our dependent variable, what we now want to get is an idea of *which variables are related interestingly to that dependent variable*. \n",
    "\n",
    "We can call the .corr() method on our wine data to look at all the correlations between our variables. As the [documentation](https://pandas.pydata.org/pandas-docs/stable/reference/api/pandas.DataFrame.corr.html) shows, the default correlation coefficient is the Pearson correlation coefficient (p.58 and p.396 of the *AoS*); but other coefficients can be plugged in as parameters. Remember, the Pearson correlation coefficient shows us how close to a straight line the data-points fall, and is a number between -1 and 1. "
   ]
  },
  {
   "cell_type": "code",
   "execution_count": null,
   "metadata": {},
   "outputs": [],
   "source": [
    "# Call the .corr() method on the wine dataset \n",
    "wine._ _ _()"
   ]
  },
  {
   "cell_type": "markdown",
   "metadata": {},
   "source": [
    "Ok - you might be thinking, but wouldn't it be nice if we visualized these relationships? It's hard to get a picture of the correlations between the variables without anything visual. \n",
    "\n",
    "Very true, and this brings us to the next section."
   ]
  },
  {
   "cell_type": "markdown",
   "metadata": {},
   "source": [
    "### 2. Cleaning, Transforming, and Visualizing "
   ]
  },
  {
   "cell_type": "markdown",
   "metadata": {},
   "source": [
    "#### 2a. Visualizing correlations \n",
    "The heading of this stage of the data science pipeline ('Cleaning, Transforming, and Visualizing') doesn't imply that we have to do all of those operations in *that order*. Sometimes (and this is a case in point) our data is already relatively clean, and the priority is to do some visualization. Normally, however, our data is less sterile, and we have to do some cleaning and transforming first prior to visualizing. "
   ]
  },
  {
   "cell_type": "markdown",
   "metadata": {},
   "source": [
    "Now that we've chosen **fixed acidity** as our dependent variable for regression analysis, we can begin by plotting the pairwise relationships in the dataset, to check out how our variables relate to one another."
   ]
  },
  {
   "cell_type": "code",
   "execution_count": null,
   "metadata": {},
   "outputs": [],
   "source": [
    "# Call the .pairplot() method on our Seaborn object 'sns', and plug in our wine data as a parameter. \n",
    "# Nb: this instruction will take a long time to execute. It's doing a lot of operations! \n",
    "sns._ _ _(wine)"
   ]
  },
  {
   "cell_type": "markdown",
   "metadata": {},
   "source": [
    "If you've never executed your own Seaborn pairplot before, just take a moment to look at the output. They certainly output a lot of information at once. What can you infer from it? What can you *not* justifiably infer from it?\n",
    "\n",
    "... All done? \n",
    "\n",
    "Here's a couple things you might have noticed: \n",
    "- a given cell value represents the correlation that exists between two variables \n",
    "- on the diagonal, you can see a bunch of histograms. This is because pairplotting the variables with themselves would be pointless, so the pairplot() method instead makes histograms to show the distributions of those variables' values. This allows us to quickly see the shape of each variable's values.  \n",
    "- the plots for the quality variable form horizontal bands, due to the fact that it's a discrete variable. We were certainly right in not pursuing a regression analysis of this variable.\n",
    "- Notice that some of the nice plots invite a line of best fit, such as alcohol vs density. Others, such as citric acid vs alcohol, are more inscrutable."
   ]
  },
  {
   "cell_type": "markdown",
   "metadata": {},
   "source": [
    "So we now have called the .corr() method, and the .pairplot() Seaborn method, on our wine data. Both have flaws. Happily, we can get the best of both worlds with a heatmap. "
   ]
  },
  {
   "cell_type": "code",
   "execution_count": null,
   "metadata": {},
   "outputs": [],
   "source": [
    "# We need to do some preliminary work, and ensure that the Matplotlib plot is big enough. \n",
    "# Call .figure() on plt, and plug in the parameter figsize=(40,20) (or similar suitably large dimensions)\n",
    "plt.figure(_ _ _)\n",
    "\n",
    "# To create an annotated heatmap of the correlations, we call the heatmap() method on our sns object.\n",
    "# Ensure to plug in, as first parameter, wine.corr(), and as second parameter, annot=True (so the graph is annotated)\n",
    "sns._ _ _(wine.corr(), annot=True)"
   ]
  },
  {
   "cell_type": "markdown",
   "metadata": {},
   "source": [
    "Take a moment to think about the following questions:\n",
    "- How does color relate to extent of correlation?\n",
    "- How might we use the plot to show us interesting relationships worth investigating? \n",
    "- More precisely, what does the heatmap show us about the fixed acidity variable's relationship to the density variable? \n",
    "\n",
    "There is a relatively strong correlation between the density and fixed acidity variables respectively. In the next code block, call the scatterplot() method on our sns object. Make the x-axis parameter 'density', the y-axis parameter 'fixed.acidity', and the third parameter specify our wine dataset.  "
   ]
  },
  {
   "cell_type": "code",
   "execution_count": null,
   "metadata": {},
   "outputs": [],
   "source": [
    "# Plot density against fixed.acidity\n",
    "sns._ _ _(x=\"density\", y=\"fixed.acidity\", data=_ _ _)"
   ]
  },
  {
   "cell_type": "markdown",
   "metadata": {},
   "source": [
    "We can see a positive correlation, and quite a steep one. There are some outliers, but as a whole, there is a steep looking line that looks like it ought to be drawn. "
   ]
  },
  {
   "cell_type": "code",
   "execution_count": null,
   "metadata": {},
   "outputs": [],
   "source": [
    "# Call the regplot() method on your sns object, with parameters: x = 'density', y = 'fixed.acidity',\n",
    "# and data=wine, to make this correlation more clear \n",
    "sns._ _ _(x=\"density\", y=\"_ _ _\", data=wine)"
   ]
  },
  {
   "cell_type": "markdown",
   "metadata": {},
   "source": [
    "The line of best fit matches the overall shape of the data, but it's clear that there are some points that deviate from the line, rather than all clustering close. "
   ]
  },
  {
   "cell_type": "markdown",
   "metadata": {},
   "source": [
    "Let's see if we can predict fixed acidity based on density using linear regression. "
   ]
  },
  {
   "cell_type": "markdown",
   "metadata": {},
   "source": [
    "### 3. Modeling "
   ]
  },
  {
   "cell_type": "markdown",
   "metadata": {},
   "source": [
    "#### 3a. Train/Test Split\n",
    "While this dataset is super clean, and hence doesn't require much for analysis, we still need to split our dataset into a test set and a training set.\n",
    "\n",
    "You'll recall from p.158 of *AoS* that such a split is important good practice when evaluating statistical models. On p.158, Professor Spiegelhalter was evaluating a classification tree, but the same applies when we're doing regression. Normally, we train with 75% of the data and test on the remaining 25%. \n",
    "\n",
    "To be sure, for our first model, we're only going to focus on two variables: fixed acidity as our dependent variable, and density as our sole independent predictor variable. \n",
    "\n",
    "We'll be using [sklearn](https://scikit-learn.org/stable/modules/generated/sklearn.model_selection.train_test_split.html) here. Don't worry if not all of the syntax makes sense; just follow the rationale for what we're doing. "
   ]
  },
  {
   "cell_type": "code",
   "execution_count": null,
   "metadata": {},
   "outputs": [],
   "source": [
    "# Subsetting our data into our dependent and independent variables.\n",
    "# Create a variable called 'X' and assign it the density field of wine.\n",
    "# Create a variable called 'y' (that's right, lower case) and assign it the fixed.acidity field of wine. \n",
    "# Using double brackets allows us to use the column headings. \n",
    "X = wine[[\"density\"]] \n",
    "_ _ _ = wine[[\"_ _ _\"]]\n",
    "\n",
    "# Split the data. This line uses the sklearn function train_test_split().\n",
    "# The test_size parameter means we can train with 75% of the data, and test on 25%. \n",
    "# The random_state parameter allows our work to be checked and replicated by other data scientists\n",
    "X_train, X_test, y_train, y_test = train_test_split(X, y, test_size = 0.25, random_state = 123)"
   ]
  },
  {
   "cell_type": "code",
   "execution_count": null,
   "metadata": {},
   "outputs": [],
   "source": [
    "# We now want to check the shape of the X train, y_train, X_test and y_test to make sure the proportions are right. \n",
    "print(X_train.shape, y_train._ _ _)\n",
    "print(X_test._ _ _, y_test.shape)"
   ]
  },
  {
   "cell_type": "markdown",
   "metadata": {},
   "source": [
    "#### 3b. Making a Linear Regression model: our first model\n",
    "Sklearn has a [LinearRegression()](https://scikit-learn.org/stable/modules/generated/sklearn.linear_model.LinearRegression.html) function built into the linear_model module. We'll be using that to make our regression model. "
   ]
  },
  {
   "cell_type": "code",
   "execution_count": null,
   "metadata": {},
   "outputs": [],
   "source": [
    "# Create the model: make a variable called rModel, and assign it linear_model.LinearRegression(normalize=True).\n",
    "# Note: the normalize=True parameter enables the handling of different scales of our variables. \n",
    "rModel = linear_model.LinearRegression(_ _ _)"
   ]
  },
  {
   "cell_type": "code",
   "execution_count": null,
   "metadata": {},
   "outputs": [],
   "source": [
    "# We now want to train the model on our test data.\n",
    "# Call the .fit() method of rModel, and plug in X-train, y_train as parameters, in that order.\n",
    "rModel._ _ _(X_train, y_train)"
   ]
  },
  {
   "cell_type": "code",
   "execution_count": null,
   "metadata": {},
   "outputs": [],
   "source": [
    "# Evaluate the model by printing the result of calling .score() on rModel, with parameters X_train, y_train. \n",
    "print(rModel._ _ _(X_train, y_train))"
   ]
  },
  {
   "cell_type": "markdown",
   "metadata": {},
   "source": [
    "The above score is called R-Squared coefficient, or the \"coefficient of determination\". It's basically a measure of how successfully our model predicts the variations in the data away from the mean: 1 would mean a perfect model that explains 100% of the variation. At the moment, our model explains only about 45% of the variation from the mean. There's more work to do!"
   ]
  },
  {
   "cell_type": "code",
   "execution_count": null,
   "metadata": {},
   "outputs": [],
   "source": [
    "# Use the model to make predictions about our test data\n",
    "# Make a variable called y_pred, and assign it the result of calling the predict() method on rModel. Plug X_test into that method.\n",
    "y_pred = rModel._ _ _(X_test)"
   ]
  },
  {
   "cell_type": "code",
   "execution_count": null,
   "metadata": {},
   "outputs": [],
   "source": [
    "# Let's plot the predictions against the actual result. Use scatter()\n",
    "plt._ _ _(y_test,y_pred)"
   ]
  },
  {
   "cell_type": "markdown",
   "metadata": {},
   "source": [
    "The above scatterplot represents how well the predictions match the actual results. \n",
    "\n",
    "Along the x-axis, we have the actual fixed acidity, and along the y-axis we have the predicted value for the fixed acidity.\n",
    "\n",
    "There is a visible positive correlation, as the model has not been totally unsuccesful, but it's clear that it is not maximally accurate: wines with an actual fixed acidity of just over 10 have been predicted as having acidity levels from about 6.3 to 13."
   ]
  },
  {
   "cell_type": "markdown",
   "metadata": {},
   "source": [
    "Let's build a similar model using a different package, to see if we get a better result that way."
   ]
  },
  {
   "cell_type": "markdown",
   "metadata": {},
   "source": [
    "#### 3c. Making a Linear Regression model: our second model: Ordinary Least Squares (OLS)"
   ]
  },
  {
   "cell_type": "code",
   "execution_count": null,
   "metadata": {},
   "outputs": [],
   "source": [
    "# Create the test and train sets. Here, we do things slightly differently.  \n",
    "# We make the explanatory variable X as before.\n",
    "X = _ _ _ \n",
    "\n",
    "# But here, reassign X the value of adding a constant to it. This is required for Ordinary Least Squares Regression.\n",
    "# Further explanation of this can be found here: \n",
    "# https://www.statsmodels.org/devel/generated/statsmodels.regression.linear_model.OLS.html\n",
    "X = sm.add_constant(X)"
   ]
  },
  {
   "cell_type": "code",
   "execution_count": null,
   "metadata": {},
   "outputs": [],
   "source": [
    "# The rest of the preparation is as before.\n",
    "y = _ _ _ \n",
    "\n",
    "# Split the data\n",
    "X_train, X_test, y_train, y_test = train_test_split(X, y, test_size = 0.25, random_state = 123)"
   ]
  },
  {
   "cell_type": "code",
   "execution_count": null,
   "metadata": {},
   "outputs": [],
   "source": [
    "# Create the model\n",
    "rModel2 = sm.OLS(y_train, X_train)\n",
    "# Fit the model with fit() \n",
    "rModel2_results = rModel2._ _ _()"
   ]
  },
  {
   "cell_type": "code",
   "execution_count": null,
   "metadata": {},
   "outputs": [],
   "source": [
    "# Evaluate the model with .summary()\n",
    "rModel2_results._ _ _()"
   ]
  },
  {
   "cell_type": "markdown",
   "metadata": {},
   "source": [
    "One of the great things about Statsmodels (sm) is that you get so much information from the summary() method. \n",
    "\n",
    "There are lots of values here, whose meanings you can explore at your leisure, but here's one of the most important: the R-squared score is 0.455, the same as what it was with the previous model. This makes perfect sense, right? It's the same value as the score from sklearn, because they've both used the same algorithm on the same data.\n",
    "\n",
    "Here's a useful link you can check out if you have the time: https://www.theanalysisfactor.com/assessing-the-fit-of-regression-models/"
   ]
  },
  {
   "cell_type": "code",
   "execution_count": null,
   "metadata": {},
   "outputs": [],
   "source": [
    "# Let's use our new model to make predictions of the dependent variable y. Use predict(), and plug in X_test as the parameter\n",
    "y_pred = rModel2_results._ _ _(_ _ _)"
   ]
  },
  {
   "cell_type": "code",
   "execution_count": null,
   "metadata": {},
   "outputs": [],
   "source": [
    "# Plot the predictions\n",
    "# Build a scatterplot\n",
    "plt._ _ _(y_test, y_pred)\n",
    "\n",
    "# Add a line for perfect correlation. Can you see what this line is doing? \n",
    "plt.plot([x for x in range(9,15)],[x for x in range(9,15)], color='red')\n",
    "\n",
    "# Label it nicely\n",
    "plt.title(\"Model 2 predictions vs. the actual values\")\n",
    "plt.xlabel(\"_ _ _\")\n",
    "plt.ylabel(\"_ _ _\")"
   ]
  },
  {
   "cell_type": "markdown",
   "metadata": {},
   "source": [
    "The red line shows a theoretically perfect correlation between our actual and predicted values - the line that would exist if every prediction was completely correct. It's clear that while our points have a generally similar direction, they don't match the red line at all; we still have more work to do. \n",
    "\n",
    "To get a better predictive model, we should use more than one variable."
   ]
  },
  {
   "cell_type": "markdown",
   "metadata": {},
   "source": [
    "#### 3d. Making a Linear Regression model: our third model: multiple linear regression\n",
    "Remember, as Professor Spiegelhalter explains on p.132 of *AoS*, including more than one explanatory variable into a linear regression analysis is known as ***multiple linear regression***. "
   ]
  },
  {
   "cell_type": "code",
   "execution_count": null,
   "metadata": {},
   "outputs": [],
   "source": [
    "# Create test and train datasets\n",
    "# This is again very similar, but now we include more columns in the predictors\n",
    "# Include all columns from data in the explanatory variables X except fixed.acidity and quality (which was an integer)\n",
    "X = wine.drop([\"fixed.acidity\", \"_ _ _\"],axis=1)\n",
    "\n",
    "# Create constants for X, so the model knows its bounds\n",
    "X = sm.add_constant(X)\n",
    "y = wine[[\"fixed.acidity\"]]\n",
    "\n",
    "# Split the data\n",
    "X_train, X_test, y_train, y_test = train_test_split(X, y, test_size = 0.25, random_state = 123)"
   ]
  },
  {
   "cell_type": "code",
   "execution_count": null,
   "metadata": {},
   "outputs": [],
   "source": [
    "# We can use almost identical code to create the third model, because it is the same algorithm, just different inputs\n",
    "# Create the model\n",
    "rModel3 = sm.OLS(y_train, X_train)\n",
    "# Fit the model\n",
    "rModel3_results = rModel3.fit()"
   ]
  },
  {
   "cell_type": "code",
   "execution_count": null,
   "metadata": {},
   "outputs": [],
   "source": [
    "# Evaluate the model\n",
    "rModel3_results.summary()"
   ]
  },
  {
   "cell_type": "markdown",
   "metadata": {},
   "source": [
    "The R-Squared score shows a big improvement - our first model predicted only around 45% of the variation, but now we are predicting 87%!"
   ]
  },
  {
   "cell_type": "code",
   "execution_count": null,
   "metadata": {},
   "outputs": [],
   "source": [
    "# Use our new model to make predictions\n",
    "y_pred = rModel3_results._ _ _(X_test)"
   ]
  },
  {
   "cell_type": "code",
   "execution_count": null,
   "metadata": {},
   "outputs": [],
   "source": [
    "# Plot the predictions\n",
    "# Build a scatterplot\n",
    "plt._ _ _(y_test, y_pred)\n",
    "\n",
    "# Add a line for perfect correlation\n",
    "plt.plot([x for x in range(9,15)],[x for x in range(9,15)], color='red')\n",
    "\n",
    "# Label it nicely\n",
    "plt.title(\"Model 3 predictions vs. actual\")\n",
    "plt.xlabel(\"Actual\")\n",
    "plt.ylabel(\"Predicted\")"
   ]
  },
  {
   "cell_type": "markdown",
   "metadata": {},
   "source": [
    "We've now got a much closer match between our data and our predictions, and we can see that the shape of the data points is much more similar to the red line. "
   ]
  },
  {
   "cell_type": "markdown",
   "metadata": {},
   "source": [
    "We can check another metric as well - the RMSE (Root Mean Squared Error). The MSE is defined by Professor Spiegelhalter on p.393 of *AoS*, and the RMSE is just the square root of that value. This is a measure of the accuracy of a regression model. Very simply put, it's formed by finding the average difference between predictions and actual values. Check out p. 163 of *AoS* for a reminder of how this works. "
   ]
  },
  {
   "cell_type": "code",
   "execution_count": null,
   "metadata": {},
   "outputs": [],
   "source": [
    "# Define a function to check the RMSE. Remember the def keyword needed to make functions? \n",
    "_ _ _ rmse(predictions, targets):\n",
    "    return np.sqrt(((predictions - targets) ** 2).mean())"
   ]
  },
  {
   "cell_type": "code",
   "execution_count": null,
   "metadata": {},
   "outputs": [],
   "source": [
    "# Get predictions from rModel3\n",
    "y_pred = rModel3_results._ _ _(_ _ _)\n",
    "\n",
    "# Put the predictions & actual values into a dataframe\n",
    "matches = pd.DataFrame(y_test)\n",
    "matches.rename(columns = {'fixed.acidity':'actual'}, inplace=True)\n",
    "matches[\"predicted\"] = y_pred\n",
    "\n",
    "rmse(matches[\"actual\"], matches[\"predicted\"])"
   ]
  },
  {
   "cell_type": "markdown",
   "metadata": {},
   "source": [
    "The RMSE tells us how far, on average, our predictions were mistaken. An RMSE of 0 would mean we were making perfect predictions. 0.6 signifies that we are, on average, about 0.6 of a unit of fixed acidity away from the correct answer. That's not bad at all."
   ]
  },
  {
   "cell_type": "markdown",
   "metadata": {},
   "source": [
    "#### 3e. Making a Linear Regression model: our fourth model: avoiding redundancy "
   ]
  },
  {
   "cell_type": "markdown",
   "metadata": {},
   "source": [
    "We can also see from our early heat map that volatile.acidity and citric.acid are both correlated with pH. We can make a model that ignores those two variables and just uses pH, in an attempt to remove redundancy from our model."
   ]
  },
  {
   "cell_type": "code",
   "execution_count": null,
   "metadata": {},
   "outputs": [],
   "source": [
    "# Create test and train datasets\n",
    "# Include the remaining six columns as predictors\n",
    "X = wine[[\"residual.sugar\",\"chlorides\",\"total.sulfur.dioxide\",\"density\",\"pH\",\"sulphates\"]]\n",
    "\n",
    "# Create constants for X, so the model knows its bounds\n",
    "X = sm.add_constant(X)\n",
    "\n",
    "y = wine[[\"fixed.acidity\"]]\n",
    "\n",
    "# Split the data\n",
    "\n",
    "X_train, X_test, y_train, y_test = train_test_split(X, y, test_size = 0.25, random_state = 123)"
   ]
  },
  {
   "cell_type": "code",
   "execution_count": null,
   "metadata": {},
   "outputs": [],
   "source": [
    "# Create the fifth model\n",
    "rModel4 = sm.OLS(y_train, X_train)\n",
    "# Fit the model\n",
    "rModel4_results = rModel4.fit()\n",
    "# Evaluate the model\n",
    "rModel4_results.summary()"
   ]
  },
  {
   "cell_type": "markdown",
   "metadata": {},
   "source": [
    "The R-squared score has reduced, showing us that actually, the removed columns were important."
   ]
  },
  {
   "cell_type": "markdown",
   "metadata": {},
   "source": [
    "### Conclusions & next steps"
   ]
  },
  {
   "cell_type": "markdown",
   "metadata": {},
   "source": [
    "Congratulations on getting through this implementation of regression and good data science practice in Python! \n",
    "\n",
    "Take a moment to reflect on which model was the best, before reading on.\n",
    "\n",
    ".\n",
    ".\n",
    ".\n",
    "\n",
    "Here's one conclusion that seems right. While our most predictively powerful model was rModel3, this model had explanatory variables that were correlated with one another, which made some redundancy. Our most elegant and economical model was rModel4 - it used just a few predictors to get a good result. \n",
    "\n",
    "All of our models in this notebook have used the OLS algorithm - Ordinary Least Squares. There are many other regression algorithms, and if you have time, it would be good to investigate them. You can find some examples [here](https://www.statsmodels.org/dev/examples/index.html#regression). Be sure to make a note of what you find, and chat through it with your mentor at your next call.\n"
   ]
  }
 ],
 "metadata": {
  "kernelspec": {
   "display_name": "Python 3",
   "language": "python",
   "name": "python3"
  },
  "language_info": {
   "codemirror_mode": {
    "name": "ipython",
    "version": 3
   },
   "file_extension": ".py",
   "mimetype": "text/x-python",
   "name": "python",
   "nbconvert_exporter": "python",
   "pygments_lexer": "ipython3",
   "version": "3.8.8"
  }
 },
 "nbformat": 4,
 "nbformat_minor": 4
}
