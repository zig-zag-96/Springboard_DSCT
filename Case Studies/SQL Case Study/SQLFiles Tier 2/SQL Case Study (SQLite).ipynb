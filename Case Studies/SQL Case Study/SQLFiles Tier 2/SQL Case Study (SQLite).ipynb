{
 "cells": [
  {
   "cell_type": "code",
   "execution_count": 31,
   "id": "d8d15e1a",
   "metadata": {},
   "outputs": [],
   "source": [
    "import sqlite3\n",
    "con = sqlite3.connect('sqlite_db_pythonsqlite.db')"
   ]
  },
  {
   "cell_type": "code",
   "execution_count": 62,
   "id": "21c15a94",
   "metadata": {},
   "outputs": [],
   "source": [
    "cur = con.cursor()\n",
    "# Q10: Produce a list of facilities with a total revenue less than 1000. The output of facility name and total revenue, sorted by revenue. Rememberthat there's a different cost for guests and members! */\n",
    "query_1 = '''SELECT f.name, SUM(\n",
    "CASE WHEN memid =0\n",
    "THEN b.slots * f.guestcost\n",
    "ELSE f.membercost * b.slots\n",
    "END ) AS Revenue\n",
    "FROM Bookings AS b\n",
    "INNER JOIN Facilities AS f ON b.facid = f.facid\n",
    "GROUP BY f.name HAVING Revenue < 1000\n",
    "ORDER BY Revenue DESC\n",
    "LIMIT 0 , 30'''\n",
    "\n",
    "# Q11: Produce a report of members and who recommended them in alphabetic surname,firstname order\n",
    "query_2 = '''SELECT m1.surname || ',' || m1.firstname AS FullName, m2.surname ||','|| m2.firstname AS Recommender\n",
    "FROM Members AS m1\n",
    "INNER JOIN Members AS m2 \n",
    "ON m1.recommendedby = m2.memid\n",
    "WHERE m1.memid <>0\n",
    "ORDER BY FullName'''\n",
    "\n",
    "# Q12: Find the facilities with their usage by member, but not guests\n",
    "query_3 = '''\n",
    "SELECT f.name, SUM(slots)\n",
    "FROM Facilities AS f\n",
    "INNER JOIN Bookings AS b\n",
    "ON f.facid = b.facid\n",
    "WHERE b.memid <> 0\n",
    "GROUP BY f.name'''\n",
    "\n",
    "# Q13: Find the facilities usage by month, but not guests\n",
    "query_4 = '''SELECT f.name, strftime('%m',b.starttime)AS Month, SUM(b.slots)\n",
    "FROM Facilities AS f\n",
    "INNER JOIN Bookings AS b\n",
    "ON f.facid = b.facid\n",
    "WHERE b.memid <> 0 \n",
    "GROUP BY f.name, Month'''\n",
    "\n",
    "#Edit query_# and run to execute query! https://docs.python.org/3/library/sqlite3.html\n",
    "#cur.execute(query_1)"
   ]
  },
  {
   "cell_type": "code",
   "execution_count": 63,
   "id": "b0cd54a1",
   "metadata": {},
   "outputs": [
    {
     "name": "stdout",
     "output_type": "stream",
     "text": [
      "('Badminton Court', '07', 165)\n",
      "('Badminton Court', '08', 414)\n",
      "('Badminton Court', '09', 507)\n",
      "('Massage Room 1', '07', 166)\n",
      "('Massage Room 1', '08', 316)\n",
      "('Massage Room 1', '09', 402)\n",
      "('Massage Room 2', '07', 8)\n",
      "('Massage Room 2', '08', 18)\n",
      "('Massage Room 2', '09', 28)\n",
      "('Pool Table', '07', 110)\n",
      "('Pool Table', '08', 303)\n",
      "('Pool Table', '09', 443)\n",
      "('Snooker Table', '07', 140)\n",
      "('Snooker Table', '08', 316)\n",
      "('Snooker Table', '09', 404)\n",
      "('Squash Court', '07', 50)\n",
      "('Squash Court', '08', 184)\n",
      "('Squash Court', '09', 184)\n",
      "('Table Tennis', '07', 98)\n",
      "('Table Tennis', '08', 296)\n",
      "('Table Tennis', '09', 400)\n",
      "('Tennis Court 1', '07', 201)\n",
      "('Tennis Court 1', '08', 339)\n",
      "('Tennis Court 1', '09', 417)\n",
      "('Tennis Court 2', '07', 123)\n",
      "('Tennis Court 2', '08', 345)\n",
      "('Tennis Court 2', '09', 414)\n"
     ]
    }
   ],
   "source": [
    "for row in cur.execute(query_4):\n",
    "    print(row)"
   ]
  },
  {
   "cell_type": "code",
   "execution_count": null,
   "id": "cdb7eb66",
   "metadata": {},
   "outputs": [],
   "source": []
  }
 ],
 "metadata": {
  "kernelspec": {
   "display_name": "Python 3",
   "language": "python",
   "name": "python3"
  },
  "language_info": {
   "codemirror_mode": {
    "name": "ipython",
    "version": 3
   },
   "file_extension": ".py",
   "mimetype": "text/x-python",
   "name": "python",
   "nbconvert_exporter": "python",
   "pygments_lexer": "ipython3",
   "version": "3.8.8"
  }
 },
 "nbformat": 4,
 "nbformat_minor": 5
}
